{
 "cells": [
  {
   "cell_type": "markdown",
   "metadata": {},
   "source": [
    "## NLP Project\n",
    "\n"
   ]
  },
  {
   "cell_type": "code",
   "execution_count": 2,
   "metadata": {},
   "outputs": [],
   "source": [
    "import json\n",
    "\n",
    "from pathlib import Path\n",
    "\n",
    "\n",
    "def create_paper_dict(paper):\n",
    "    paper_dict = {}\n",
    "    abstract = ''\n",
    "    text = ''\n",
    "    \n",
    "    try:  # many papers don't have abstracts\n",
    "        for i in paper['abstract']:\n",
    "            abstract += i['text']\n",
    "    except:\n",
    "        pass\n",
    "    for i in paper['body_text']:\n",
    "        text += i['text']\n",
    "    \n",
    "    paper_dict['paper_id'] = paper['paper_id']\n",
    "    paper_dict['abstract'] = abstract\n",
    "    paper_dict['body_text'] = text\n",
    "    \n",
    "    return paper_dict\n",
    "\n",
    "data_path = 'C://Users//Binyamin//PythonProjects//NLP//final_project//data//'\n",
    "lit = []\n",
    "pathlist = Path(data_path).glob('**/*.json')\n",
    "for path in pathlist:\n",
    "    path_in_str = str(path)  # because path is object not string\n",
    "    with open(path_in_str) as f:\n",
    "        data = json.load(f)\n",
    "    paper_dict = create_paper_dict(data)\n",
    "    lit.append(paper_dict)"
   ]
  },
  {
   "cell_type": "code",
   "execution_count": 3,
   "metadata": {},
   "outputs": [
    {
     "data": {
      "text/plain": [
       "71261"
      ]
     },
     "execution_count": 3,
     "metadata": {},
     "output_type": "execute_result"
    }
   ],
   "source": [
    "len(lit)"
   ]
  },
  {
   "cell_type": "code",
   "execution_count": 28,
   "metadata": {},
   "outputs": [],
   "source": [
    "import time\n"
   ]
  },
  {
   "cell_type": "code",
   "execution_count": 36,
   "metadata": {},
   "outputs": [
    {
     "name": "stdout",
     "output_type": "stream",
     "text": [
      " Volume in drive C is Acer\n",
      " Volume Serial Number is BA05-5E0F\n",
      "\n",
      " Directory of C:\\Users\\Binyamin\\PythonProjects\\NLP\\final_project\\data\n",
      "\n",
      "05/10/2020  02:11 PM    <DIR>          .\n",
      "05/10/2020  02:11 PM    <DIR>          ..\n",
      "05/08/2020  03:55 PM    <DIR>          arxiv\n",
      "05/08/2020  03:55 PM    <DIR>          biorxiv_medrxiv\n",
      "05/10/2020  12:40 PM    <DIR>          comm_use_subset\n",
      "05/08/2020  04:39 PM    <DIR>          cord_19_embeddings_4_24\n",
      "05/02/2020  08:39 PM            26,690 COVID.DATA.LIC.AGMT.pdf\n",
      "05/08/2020  03:58 PM    <DIR>          custom_license\n",
      "05/02/2020  08:49 PM             2,906 json_schema.txt\n",
      "05/02/2020  08:49 PM        89,290,114 metadata.csv\n",
      "05/02/2020  08:50 PM             5,434 metadata.readme\n",
      "05/08/2020  04:02 PM    <DIR>          noncomm_use_subset\n",
      "05/10/2020  02:14 PM     2,076,181,339 paper_dicts\n",
      "               5 File(s)  2,165,506,483 bytes\n",
      "               8 Dir(s)  21,870,022,656 bytes free\n"
     ]
    }
   ],
   "source": [
    "ls ..\\data"
   ]
  },
  {
   "cell_type": "code",
   "execution_count": 63,
   "metadata": {},
   "outputs": [
    {
     "name": "stdout",
     "output_type": "stream",
     "text": [
      "done  0  papers in  0.0067048000055365264  seconds\n",
      "done  500  papers in  10.631782699696487  seconds\n",
      "done  1000  papers in  7.8358053001138614  seconds\n",
      "done  1500  papers in  7.038967199987383  seconds\n",
      "done  2000  papers in  6.566383399927872  seconds\n",
      "done  2500  papers in  6.56111050004256  seconds\n",
      "done  3000  papers in  6.073433299810858  seconds\n",
      "done  3500  papers in  6.77269339976192  seconds\n",
      "done  4000  papers in  9.315488700071  seconds\n",
      "done  4500  papers in  9.450686000156566  seconds\n",
      "done  5000  papers in  10.072518799919635  seconds\n",
      "done  5500  papers in  9.106466499943053  seconds\n",
      "done  6000  papers in  8.344403199997032  seconds\n",
      "done  6500  papers in  8.469056899935822  seconds\n",
      "done  7000  papers in  8.367996099987067  seconds\n",
      "done  7500  papers in  8.089393200047198  seconds\n",
      "done  8000  papers in  8.690419099802966  seconds\n",
      "done  8500  papers in  8.256924200148205  seconds\n",
      "done  9000  papers in  8.280585600063205  seconds\n",
      "done  9500  papers in  8.39931279992743  seconds\n",
      "done  10000  papers in  8.446324200049276  seconds\n",
      "done  10500  papers in  8.823179300205084  seconds\n",
      "done  11000  papers in  11.421507600010955  seconds\n",
      "done  11500  papers in  8.586531499939156  seconds\n",
      "done  12000  papers in  8.368910999881336  seconds\n",
      "done  12500  papers in  8.937019099888857  seconds\n",
      "done  13000  papers in  8.728735300101107  seconds\n",
      "done  13500  papers in  7.870640699984506  seconds\n",
      "done  14000  papers in  4.78055200005474  seconds\n",
      "done  14500  papers in  7.051583300330094  seconds\n",
      "done  15000  papers in  5.550060299938195  seconds\n",
      "done  15500  papers in  4.734978999986197  seconds\n",
      "done  16000  papers in  10.524745900009293  seconds\n",
      "done  16500  papers in  9.974496699869633  seconds\n",
      "done  17000  papers in  11.241179100135923  seconds\n",
      "done  17500  papers in  12.04310410002654  seconds\n",
      "done  18000  papers in  11.605693200210226  seconds\n",
      "done  18500  papers in  12.502399000019068  seconds\n",
      "done  19000  papers in  17.4813198998163  seconds\n",
      "done  19500  papers in  9.970866199859302  seconds\n",
      "done  20000  papers in  9.487811599829001  seconds\n",
      "done  20500  papers in  5.694571700136294  seconds\n",
      "done  21000  papers in  10.487434199880227  seconds\n",
      "done  21500  papers in  5.021971299953293  seconds\n",
      "done  22000  papers in  5.17684870006633  seconds\n",
      "done  22500  papers in  7.620084699898143  seconds\n",
      "done  23000  papers in  7.603209500244702  seconds\n",
      "done  23500  papers in  8.162166900132434  seconds\n",
      "done  24000  papers in  7.339385199986282  seconds\n",
      "done  24500  papers in  7.605203200058895  seconds\n",
      "done  25000  papers in  8.278863299987279  seconds\n",
      "done  25500  papers in  8.08199950029666  seconds\n",
      "done  26000  papers in  7.043609999949695  seconds\n",
      "done  26500  papers in  7.976853199914331  seconds\n",
      "done  27000  papers in  9.69853359994886  seconds\n",
      "done  27500  papers in  8.846947300145985  seconds\n",
      "done  28000  papers in  11.242099200127996  seconds\n",
      "done  28500  papers in  10.811627199916984  seconds\n",
      "done  29000  papers in  7.8938600001711166  seconds\n",
      "done  29500  papers in  7.293715700114262  seconds\n",
      "done  30000  papers in  7.557866599963745  seconds\n",
      "done  30500  papers in  7.756417999858968  seconds\n",
      "done  31000  papers in  7.438945500020054  seconds\n",
      "done  31500  papers in  7.392618199897697  seconds\n",
      "done  32000  papers in  8.547792299927096  seconds\n",
      "done  32500  papers in  9.035717200051295  seconds\n",
      "done  33000  papers in  8.49663480023446  seconds\n",
      "done  33500  papers in  8.570039200028987  seconds\n",
      "done  34000  papers in  7.668648699953337  seconds\n",
      "done  34500  papers in  8.77952199993888  seconds\n",
      "done  35000  papers in  11.21698339964496  seconds\n",
      "done  35500  papers in  10.670485500231734  seconds\n",
      "done  36000  papers in  10.269349899812369  seconds\n",
      "done  36500  papers in  10.761218299972825  seconds\n",
      "done  37000  papers in  8.74594099992828  seconds\n",
      "done  37500  papers in  7.792298999949708  seconds\n",
      "done  38000  papers in  10.125877800106537  seconds\n",
      "done  38500  papers in  7.803534099919489  seconds\n",
      "done  39000  papers in  10.551418299684883  seconds\n",
      "done  39500  papers in  12.892069799854653  seconds\n",
      "done  40000  papers in  13.087608399946475  seconds\n",
      "done  40500  papers in  11.376763599939295  seconds\n",
      "done  41000  papers in  11.421792900015134  seconds\n",
      "done  41500  papers in  10.044641399857937  seconds\n",
      "done  42000  papers in  11.791666599994642  seconds\n",
      "done  42500  papers in  10.977566500179819  seconds\n",
      "done  43000  papers in  11.99509970001236  seconds\n",
      "done  43500  papers in  12.26758990030794  seconds\n",
      "done  44000  papers in  23.58554870003718  seconds\n",
      "done  44500  papers in  9.582927999872481  seconds\n",
      "done  45000  papers in  7.806086799973855  seconds\n",
      "done  45500  papers in  7.803877900034422  seconds\n",
      "done  46000  papers in  6.921069099902525  seconds\n",
      "done  46500  papers in  7.307727799809072  seconds\n",
      "done  47000  papers in  7.564703300129622  seconds\n",
      "done  47500  papers in  8.364630899988697  seconds\n",
      "done  48000  papers in  8.635760899909656  seconds\n",
      "done  48500  papers in  8.677837000315776  seconds\n",
      "done  49000  papers in  8.485023100103717  seconds\n",
      "done  49500  papers in  11.108702500074287  seconds\n",
      "done  50000  papers in  9.563720199861564  seconds\n",
      "done  50500  papers in  8.556388099910691  seconds\n",
      "done  51000  papers in  11.200155999875278  seconds\n",
      "done  51500  papers in  8.247258299772511  seconds\n",
      "done  52000  papers in  9.491568199911853  seconds\n",
      "done  52500  papers in  12.546004999778233  seconds\n",
      "done  53000  papers in  10.037230300091323  seconds\n",
      "done  53500  papers in  9.352148799953284  seconds\n",
      "done  54000  papers in  10.702338700168184  seconds\n",
      "done  54500  papers in  7.736472900098306  seconds\n",
      "done  55000  papers in  8.301603700121632  seconds\n",
      "done  55500  papers in  7.777411399772973  seconds\n",
      "done  56000  papers in  4.526029999891762  seconds\n",
      "done  56500  papers in  4.810374600026989  seconds\n",
      "done  57000  papers in  6.8173803999088705  seconds\n",
      "done  57500  papers in  4.9541665000870125  seconds\n",
      "done  58000  papers in  8.111580699973274  seconds\n",
      "done  58500  papers in  2.195206899792538  seconds\n",
      "done  59000  papers in  5.730449099908583  seconds\n",
      "done  59500  papers in  3.5773805001663277  seconds\n",
      "done  60000  papers in  4.2395747999689775  seconds\n",
      "done  60500  papers in  3.401404900359921  seconds\n",
      "done  61000  papers in  8.269576999897254  seconds\n",
      "done  61500  papers in  8.480138399783755  seconds\n",
      "done  62000  papers in  16.425768599976436  seconds\n",
      "done  62500  papers in  13.50097060011467  seconds\n",
      "done  63000  papers in  7.77957010002865  seconds\n",
      "done  63500  papers in  7.240057200426236  seconds\n",
      "done  64000  papers in  13.572968499938725  seconds\n",
      "done  64500  papers in  3.7252663999970537  seconds\n",
      "done  65000  papers in  5.104924700019183  seconds\n",
      "done  65500  papers in  4.927064499992412  seconds\n",
      "done  66000  papers in  8.399027799998294  seconds\n",
      "done  66500  papers in  5.780018999881577  seconds\n",
      "done  67000  papers in  7.989298599917674  seconds\n",
      "done  67500  papers in  8.581978500267724  seconds\n",
      "done  68000  papers in  8.77495019993512  seconds\n",
      "done  68500  papers in  9.213913399726152  seconds\n",
      "done  69000  papers in  7.6193319002049975  seconds\n",
      "done  69500  papers in  5.8739454000024125  seconds\n",
      "done  70000  papers in  11.036939699828508  seconds\n",
      "done  70500  papers in  5.409244899827172  seconds\n",
      "done  71000  papers in  5.871444399817847  seconds\n"
     ]
    }
   ],
   "source": [
    "f = open('../data/single_text_file.txt', 'a', encoding='UTF-8')\n",
    "all_text = ''\n",
    "t_time = 0\n",
    "for num, i in enumerate(lit):\n",
    "    start = time.perf_counter()\n",
    "    all_text = all_text+i['abstract']\n",
    "    all_text = all_text+i['body_text']\n",
    "    end = time.perf_counter()\n",
    "    t_time = t_time + (end-start)\n",
    "    if num%500 == 0:\n",
    "        f.write(all_text)\n",
    "        all_text = ''\n",
    "        print (\"done \", num, \" papers in \", t_time, \" seconds\")\n",
    "        t_time = 0"
   ]
  },
  {
   "cell_type": "code",
   "execution_count": 23,
   "metadata": {},
   "outputs": [
    {
     "ename": "SyntaxError",
     "evalue": "invalid syntax (<ipython-input-23-28aca39aaa8a>, line 1)",
     "output_type": "error",
     "traceback": [
      "\u001b[1;36m  File \u001b[1;32m\"<ipython-input-23-28aca39aaa8a>\"\u001b[1;36m, line \u001b[1;32m1\u001b[0m\n\u001b[1;33m    all_text += i['abstract'] + i['body_text'] for i in lit\u001b[0m\n\u001b[1;37m                                                 ^\u001b[0m\n\u001b[1;31mSyntaxError\u001b[0m\u001b[1;31m:\u001b[0m invalid syntax\n"
     ]
    }
   ],
   "source": [
    "done  0  papers in  1.800013706088066e-06  seconds\n",
    "done  1000  papers in  23.865991999962716  seconds\n",
    "done  2000  papers in  68.89297090018226  seconds\n",
    "done  3000  papers in  110.14684130004025  seconds\n",
    "done  4000  papers in  166.1707331002399  seconds"
   ]
  },
  {
   "cell_type": "code",
   "execution_count": 64,
   "metadata": {},
   "outputs": [],
   "source": [
    "f.close()"
   ]
  },
  {
   "cell_type": "code",
   "execution_count": 42,
   "metadata": {},
   "outputs": [],
   "source": [
    "f = open('../data/single_text_file.txt', 'a', encoding='UTF-8')\n",
    "f.write(all_text)\n",
    "all_text = ''\n",
    "f.close()"
   ]
  },
  {
   "cell_type": "code",
   "execution_count": 69,
   "metadata": {},
   "outputs": [],
   "source": [
    "f = open('../data/single_text_file.txt', 'r', encoding='UTF-8')"
   ]
  },
  {
   "cell_type": "code",
   "execution_count": null,
   "metadata": {},
   "outputs": [],
   "source": [
    "t = f.read()"
   ]
  },
  {
   "cell_type": "code",
   "execution_count": 68,
   "metadata": {},
   "outputs": [
    {
     "data": {
      "text/plain": [
       "0.0"
      ]
     },
     "execution_count": 68,
     "metadata": {},
     "output_type": "execute_result"
    }
   ],
   "source": [
    "len(t)/len(lit)"
   ]
  },
  {
   "cell_type": "code",
   "execution_count": 60,
   "metadata": {},
   "outputs": [
    {
     "ename": "NameError",
     "evalue": "name 'size' is not defined",
     "output_type": "error",
     "traceback": [
      "\u001b[1;31m---------------------------------------------------------------------------\u001b[0m",
      "\u001b[1;31mNameError\u001b[0m                                 Traceback (most recent call last)",
      "\u001b[1;32m<ipython-input-60-69a73d314862>\u001b[0m in \u001b[0;36m<module>\u001b[1;34m\u001b[0m\n\u001b[1;32m----> 1\u001b[1;33m \u001b[0msize\u001b[0m\u001b[1;33m(\u001b[0m\u001b[1;33m)\u001b[0m\u001b[1;33m\u001b[0m\u001b[1;33m\u001b[0m\u001b[0m\n\u001b[0m",
      "\u001b[1;31mNameError\u001b[0m: name 'size' is not defined"
     ]
    }
   ],
   "source": []
  },
  {
   "cell_type": "code",
   "execution_count": null,
   "metadata": {},
   "outputs": [],
   "source": []
  }
 ],
 "metadata": {
  "kernelspec": {
   "display_name": "Python 3",
   "language": "python",
   "name": "python3"
  },
  "language_info": {
   "codemirror_mode": {
    "name": "ipython",
    "version": 3
   },
   "file_extension": ".py",
   "mimetype": "text/x-python",
   "name": "python",
   "nbconvert_exporter": "python",
   "pygments_lexer": "ipython3",
   "version": "3.7.3"
  }
 },
 "nbformat": 4,
 "nbformat_minor": 4
}
