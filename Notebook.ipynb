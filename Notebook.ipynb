{
 "cells": [
  {
   "cell_type": "markdown",
   "metadata": {},
   "source": [
    "## NLP Project\n",
    "\n"
   ]
  },
  {
   "cell_type": "code",
   "execution_count": 2,
   "metadata": {},
   "outputs": [],
   "source": [
    "import json\n",
    "\n",
    "from pathlib import Path\n",
    "\n",
    "\n",
    "def create_paper_dict(paper):\n",
    "    paper_dict = {}\n",
    "    abstract = ''\n",
    "    text = ''\n",
    "    \n",
    "    try:  # many papers don't have abstracts\n",
    "        for i in paper['abstract']:\n",
    "            abstract += i['text']\n",
    "    except:\n",
    "        pass\n",
    "    for i in paper['body_text']:\n",
    "        text += i['text']\n",
    "    \n",
    "    paper_dict['paper_id'] = paper['paper_id']\n",
    "    paper_dict['abstract'] = abstract\n",
    "    paper_dict['body_text'] = text\n",
    "    \n",
    "    return paper_dict\n",
    "\n",
    "data_path = 'C://Users//Binyamin//PythonProjects//NLP//final_project//data//'\n",
    "lit = []\n",
    "pathlist = Path(data_path).glob('**/*.json')\n",
    "for path in pathlist:\n",
    "    path_in_str = str(path)  # because path is object not string\n",
    "    with open(path_in_str) as f:\n",
    "        data = json.load(f)\n",
    "    paper_dict = create_paper_dict(data)\n",
    "    lit.append(paper_dict)"
   ]
  },
  {
   "cell_type": "code",
   "execution_count": 3,
   "metadata": {},
   "outputs": [
    {
     "data": {
      "text/plain": [
       "71261"
      ]
     },
     "execution_count": 3,
     "metadata": {},
     "output_type": "execute_result"
    }
   ],
   "source": [
    "len(lit)"
   ]
  },
  {
   "cell_type": "code",
   "execution_count": null,
   "metadata": {},
   "outputs": [],
   "source": []
  }
 ],
 "metadata": {
  "kernelspec": {
   "display_name": "Python 3",
   "language": "python",
   "name": "python3"
  },
  "language_info": {
   "codemirror_mode": {
    "name": "ipython",
    "version": 3
   },
   "file_extension": ".py",
   "mimetype": "text/x-python",
   "name": "python",
   "nbconvert_exporter": "python",
   "pygments_lexer": "ipython3",
   "version": "3.7.3"
  }
 },
 "nbformat": 4,
 "nbformat_minor": 4
}
