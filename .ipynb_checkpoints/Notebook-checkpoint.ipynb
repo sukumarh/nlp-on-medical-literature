{
 "cells": [
  {
   "cell_type": "markdown",
   "metadata": {},
   "source": [
    "## NLP Project\n",
    "\n"
   ]
  },
  {
   "cell_type": "code",
   "execution_count": null,
   "metadata": {},
   "outputs": [],
   "source": [
    "import json\n",
    "import gensim\n",
    "\n",
    "from pathlib import Path\n",
    "from scipy.spatial.distance import cosine\n",
    "from nltk.tokenize import sent_tokenize, word_tokenize \n",
    "from gensim.models import Word2Vec"
   ]
  },
  {
   "cell_type": "code",
   "execution_count": 1,
   "metadata": {},
   "outputs": [],
   "source": [
    "def create_paper_dict(paper):\n",
    "    \"\"\"\n",
    "    Reads in a research paper and returns a dictionary containing the paper ID, abstract, and main text.\n",
    "    Input: research paper --> JSON file\n",
    "    Output: {paper_id: , abstract: , body_text: } --> dictionary\n",
    "    \"\"\"\n",
    "    paper_dict = {}\n",
    "    abstract = ''\n",
    "    text = ''\n",
    "    \n",
    "    try:  # many papers don't have abstracts\n",
    "        for i in paper['abstract']:\n",
    "            abstract += i['text']\n",
    "    except:\n",
    "        pass\n",
    "    for i in paper['body_text']:\n",
    "        text += i['text']\n",
    "    \n",
    "    paper_dict['paper_id'] = paper['paper_id']\n",
    "    paper_dict['abstract'] = abstract\n",
    "    paper_dict['body_text'] = text\n",
    "    \n",
    "    return paper_dict\n",
    "\n",
    "\n",
    "data_path = 'C://Users//Binyamin//PythonProjects//NLP//final_project//data//'\n",
    "lit = []\n",
    "\n",
    "# Searches recursively through Repo for .json files and creates a list of dictionary from them.\n",
    "pathlist = Path(data_path).glob('**/*.json')\n",
    "for path in pathlist:\n",
    "    path_in_str = str(path)  # because path is object not string\n",
    "    with open(path_in_str) as f:\n",
    "        data = json.load(f)\n",
    "    paper_dict = create_paper_dict(data)\n",
    "    lit.append(paper_dict)"
   ]
  },
  {
   "cell_type": "code",
   "execution_count": 2,
   "metadata": {},
   "outputs": [
    {
     "data": {
      "text/plain": [
       "788"
      ]
     },
     "execution_count": 2,
     "metadata": {},
     "output_type": "execute_result"
    }
   ],
   "source": [
    "len(lit)"
   ]
  },
  {
   "cell_type": "code",
   "execution_count": 3,
   "metadata": {},
   "outputs": [
    {
     "data": {
      "text/plain": [
       "'It is highly contagious, and severe cases can lead to acute respiratory distress or multiple organ failure [3] . On 11 March 2020, the WHO has made the assessment that COVID-19 can be characterised as a pandemic. As of , in total, 1,391,890 cases of COVID-19 have been recorded, and the death toll has reached 81,478 with a rapid increase of cases in Europe and NorthAmerica.8th April 2020The disease can be confirmed by using the reverse-transcription polymerase chain reaction (RT-PCR) test [4] . While being the gold standard for diagnosis, confirming COVID-19 patients using RT-PCR is time-consuming, and both high false-negative rates and low sensitivities may put hurdles for the presumptive patients to be identified and treated early [3] [5] [6] .As a non-invasive imaging technique, computed tomography (CT) can detect those characteristics, e.g., bilateral patchy shadows or ground glass opacity (GGO), manifested in the COVID-19 infected lung [7] [8] .'"
      ]
     },
     "execution_count": 3,
     "metadata": {},
     "output_type": "execute_result"
    }
   ],
   "source": [
    "lit[0]['body_text'][: 963]"
   ]
  },
  {
   "cell_type": "code",
   "execution_count": 4,
   "metadata": {},
   "outputs": [],
   "source": []
  },
  {
   "cell_type": "code",
   "execution_count": 11,
   "metadata": {},
   "outputs": [],
   "source": [
    "f = lit[0]['body_text'].replace(\"\\n\", \" \")\n",
    "# f = []\n",
    "\n",
    "# for paper in lit:\n",
    "#     f.append(paper['body_text'].replace(\"\\n\", \" \"))\n",
    "\n",
    "# Creating a 2D array of the body text of each paper\n",
    "tokenized_data = []\n",
    "\n",
    "for text in sent_tokenize(f):\n",
    "    sentence = [] \n",
    "    \n",
    "    for word in word_tokenize(text): \n",
    "        sentence.append(word.lower()) \n",
    "  \n",
    "    tokenized_data.append(sentence) "
   ]
  },
  {
   "cell_type": "code",
   "execution_count": 12,
   "metadata": {},
   "outputs": [],
   "source": [
    "# Creating the Word2Vec models\n",
    "\n",
    "model1 = gensim.models.Word2Vec(tokenized_data, min_count = 1,  \n",
    "                              size = 100, window = 5) \n",
    "\n",
    "model2 = gensim.models.Word2Vec(tokenized_data, min_count = 1, size = 100, \n",
    "                                             window = 5, sg = 1)"
   ]
  },
  {
   "cell_type": "code",
   "execution_count": 13,
   "metadata": {},
   "outputs": [
    {
     "data": {
      "text/plain": [
       "array([-0.00527709,  0.00406041, -0.00340455,  0.00729205, -0.00013695,\n",
       "       -0.00572817, -0.00037098,  0.00229793, -0.00250223, -0.01290025,\n",
       "        0.00507837, -0.00011365, -0.00105236, -0.00710168, -0.0074765 ,\n",
       "       -0.00153815,  0.00234068,  0.00035715,  0.00568552,  0.00425771,\n",
       "        0.00028882, -0.00675879, -0.00449398, -0.00586831, -0.00440742,\n",
       "        0.0119573 ,  0.00688261, -0.00318224,  0.01218359,  0.0049665 ,\n",
       "       -0.00975942,  0.00023187,  0.00218359, -0.01062217,  0.00352084,\n",
       "        0.00906793, -0.01775926, -0.00185429,  0.00902789,  0.00641511,\n",
       "       -0.00058364, -0.00147196, -0.00972174,  0.00283675, -0.00890427,\n",
       "       -0.00713777,  0.00058433, -0.01101114, -0.00322366,  0.01500756,\n",
       "        0.00520487,  0.00748612, -0.01303988, -0.00425144,  0.01349617,\n",
       "       -0.00929002, -0.01340542,  0.00704444,  0.00207507, -0.00688573,\n",
       "        0.0105873 , -0.00275289,  0.00908542, -0.00093296,  0.01137748,\n",
       "       -0.0029616 ,  0.00372991, -0.00165661,  0.00082323,  0.00108326,\n",
       "        0.00566178,  0.00043473,  0.00221294,  0.00720533, -0.00139563,\n",
       "        0.01101211, -0.01151927,  0.00555625, -0.01240735,  0.0065705 ,\n",
       "       -0.00205782, -0.00137758,  0.00527251,  0.0065431 ,  0.00924745,\n",
       "        0.00025841,  0.00857362,  0.0068894 ,  0.0081387 , -0.00980161,\n",
       "        0.00177066, -0.00123841, -0.00053319,  0.00467811, -0.00183005,\n",
       "        0.00815982, -0.00171346, -0.00339087,  0.01315816, -0.00572696],\n",
       "      dtype=float32)"
      ]
     },
     "execution_count": 13,
     "metadata": {},
     "output_type": "execute_result"
    }
   ],
   "source": [
    "model1.wv['covid-19'] "
   ]
  },
  {
   "cell_type": "code",
   "execution_count": 14,
   "metadata": {},
   "outputs": [
    {
     "name": "stderr",
     "output_type": "stream",
     "text": [
      "C:\\Users\\sukum\\anaconda3\\lib\\site-packages\\ipykernel_launcher.py:1: DeprecationWarning: Call to deprecated `similarity` (Method will be removed in 4.0.0, use self.wv.similarity() instead).\n",
      "  \"\"\"Entry point for launching an IPython kernel.\n"
     ]
    },
    {
     "data": {
      "text/plain": [
       "0.17216855"
      ]
     },
     "execution_count": 14,
     "metadata": {},
     "output_type": "execute_result"
    }
   ],
   "source": [
    "model1.similarity('covid-19', 'blood')"
   ]
  },
  {
   "cell_type": "code",
   "execution_count": 15,
   "metadata": {},
   "outputs": [
    {
     "name": "stderr",
     "output_type": "stream",
     "text": [
      "C:\\Users\\sukum\\anaconda3\\lib\\site-packages\\ipykernel_launcher.py:1: DeprecationWarning: Call to deprecated `similarity` (Method will be removed in 4.0.0, use self.wv.similarity() instead).\n",
      "  \"\"\"Entry point for launching an IPython kernel.\n"
     ]
    },
    {
     "data": {
      "text/plain": [
       "0.9905194"
      ]
     },
     "execution_count": 15,
     "metadata": {},
     "output_type": "execute_result"
    }
   ],
   "source": [
    "model2.similarity('covid-19', 'blood')"
   ]
  },
  {
   "cell_type": "code",
   "execution_count": 63,
   "metadata": {},
   "outputs": [
    {
     "name": "stdout",
     "output_type": "stream",
     "text": [
      "done  0  papers in  0.0067048000055365264  seconds\n",
      "done  500  papers in  10.631782699696487  seconds\n",
      "done  1000  papers in  7.8358053001138614  seconds\n",
      "done  1500  papers in  7.038967199987383  seconds\n",
      "done  2000  papers in  6.566383399927872  seconds\n",
      "done  2500  papers in  6.56111050004256  seconds\n",
      "done  3000  papers in  6.073433299810858  seconds\n",
      "done  3500  papers in  6.77269339976192  seconds\n",
      "done  4000  papers in  9.315488700071  seconds\n",
      "done  4500  papers in  9.450686000156566  seconds\n",
      "done  5000  papers in  10.072518799919635  seconds\n",
      "done  5500  papers in  9.106466499943053  seconds\n",
      "done  6000  papers in  8.344403199997032  seconds\n",
      "done  6500  papers in  8.469056899935822  seconds\n",
      "done  7000  papers in  8.367996099987067  seconds\n",
      "done  7500  papers in  8.089393200047198  seconds\n",
      "done  8000  papers in  8.690419099802966  seconds\n",
      "done  8500  papers in  8.256924200148205  seconds\n",
      "done  9000  papers in  8.280585600063205  seconds\n",
      "done  9500  papers in  8.39931279992743  seconds\n",
      "done  10000  papers in  8.446324200049276  seconds\n",
      "done  10500  papers in  8.823179300205084  seconds\n",
      "done  11000  papers in  11.421507600010955  seconds\n",
      "done  11500  papers in  8.586531499939156  seconds\n",
      "done  12000  papers in  8.368910999881336  seconds\n",
      "done  12500  papers in  8.937019099888857  seconds\n",
      "done  13000  papers in  8.728735300101107  seconds\n",
      "done  13500  papers in  7.870640699984506  seconds\n",
      "done  14000  papers in  4.78055200005474  seconds\n",
      "done  14500  papers in  7.051583300330094  seconds\n",
      "done  15000  papers in  5.550060299938195  seconds\n",
      "done  15500  papers in  4.734978999986197  seconds\n",
      "done  16000  papers in  10.524745900009293  seconds\n",
      "done  16500  papers in  9.974496699869633  seconds\n",
      "done  17000  papers in  11.241179100135923  seconds\n",
      "done  17500  papers in  12.04310410002654  seconds\n",
      "done  18000  papers in  11.605693200210226  seconds\n",
      "done  18500  papers in  12.502399000019068  seconds\n",
      "done  19000  papers in  17.4813198998163  seconds\n",
      "done  19500  papers in  9.970866199859302  seconds\n",
      "done  20000  papers in  9.487811599829001  seconds\n",
      "done  20500  papers in  5.694571700136294  seconds\n",
      "done  21000  papers in  10.487434199880227  seconds\n",
      "done  21500  papers in  5.021971299953293  seconds\n",
      "done  22000  papers in  5.17684870006633  seconds\n",
      "done  22500  papers in  7.620084699898143  seconds\n",
      "done  23000  papers in  7.603209500244702  seconds\n",
      "done  23500  papers in  8.162166900132434  seconds\n",
      "done  24000  papers in  7.339385199986282  seconds\n",
      "done  24500  papers in  7.605203200058895  seconds\n",
      "done  25000  papers in  8.278863299987279  seconds\n",
      "done  25500  papers in  8.08199950029666  seconds\n",
      "done  26000  papers in  7.043609999949695  seconds\n",
      "done  26500  papers in  7.976853199914331  seconds\n",
      "done  27000  papers in  9.69853359994886  seconds\n",
      "done  27500  papers in  8.846947300145985  seconds\n",
      "done  28000  papers in  11.242099200127996  seconds\n",
      "done  28500  papers in  10.811627199916984  seconds\n",
      "done  29000  papers in  7.8938600001711166  seconds\n",
      "done  29500  papers in  7.293715700114262  seconds\n",
      "done  30000  papers in  7.557866599963745  seconds\n",
      "done  30500  papers in  7.756417999858968  seconds\n",
      "done  31000  papers in  7.438945500020054  seconds\n",
      "done  31500  papers in  7.392618199897697  seconds\n",
      "done  32000  papers in  8.547792299927096  seconds\n",
      "done  32500  papers in  9.035717200051295  seconds\n",
      "done  33000  papers in  8.49663480023446  seconds\n",
      "done  33500  papers in  8.570039200028987  seconds\n",
      "done  34000  papers in  7.668648699953337  seconds\n",
      "done  34500  papers in  8.77952199993888  seconds\n",
      "done  35000  papers in  11.21698339964496  seconds\n",
      "done  35500  papers in  10.670485500231734  seconds\n",
      "done  36000  papers in  10.269349899812369  seconds\n",
      "done  36500  papers in  10.761218299972825  seconds\n",
      "done  37000  papers in  8.74594099992828  seconds\n",
      "done  37500  papers in  7.792298999949708  seconds\n",
      "done  38000  papers in  10.125877800106537  seconds\n",
      "done  38500  papers in  7.803534099919489  seconds\n",
      "done  39000  papers in  10.551418299684883  seconds\n",
      "done  39500  papers in  12.892069799854653  seconds\n",
      "done  40000  papers in  13.087608399946475  seconds\n",
      "done  40500  papers in  11.376763599939295  seconds\n",
      "done  41000  papers in  11.421792900015134  seconds\n",
      "done  41500  papers in  10.044641399857937  seconds\n",
      "done  42000  papers in  11.791666599994642  seconds\n",
      "done  42500  papers in  10.977566500179819  seconds\n",
      "done  43000  papers in  11.99509970001236  seconds\n",
      "done  43500  papers in  12.26758990030794  seconds\n",
      "done  44000  papers in  23.58554870003718  seconds\n",
      "done  44500  papers in  9.582927999872481  seconds\n",
      "done  45000  papers in  7.806086799973855  seconds\n",
      "done  45500  papers in  7.803877900034422  seconds\n",
      "done  46000  papers in  6.921069099902525  seconds\n",
      "done  46500  papers in  7.307727799809072  seconds\n",
      "done  47000  papers in  7.564703300129622  seconds\n",
      "done  47500  papers in  8.364630899988697  seconds\n",
      "done  48000  papers in  8.635760899909656  seconds\n",
      "done  48500  papers in  8.677837000315776  seconds\n",
      "done  49000  papers in  8.485023100103717  seconds\n",
      "done  49500  papers in  11.108702500074287  seconds\n",
      "done  50000  papers in  9.563720199861564  seconds\n",
      "done  50500  papers in  8.556388099910691  seconds\n",
      "done  51000  papers in  11.200155999875278  seconds\n",
      "done  51500  papers in  8.247258299772511  seconds\n",
      "done  52000  papers in  9.491568199911853  seconds\n",
      "done  52500  papers in  12.546004999778233  seconds\n",
      "done  53000  papers in  10.037230300091323  seconds\n",
      "done  53500  papers in  9.352148799953284  seconds\n",
      "done  54000  papers in  10.702338700168184  seconds\n",
      "done  54500  papers in  7.736472900098306  seconds\n",
      "done  55000  papers in  8.301603700121632  seconds\n",
      "done  55500  papers in  7.777411399772973  seconds\n",
      "done  56000  papers in  4.526029999891762  seconds\n",
      "done  56500  papers in  4.810374600026989  seconds\n",
      "done  57000  papers in  6.8173803999088705  seconds\n",
      "done  57500  papers in  4.9541665000870125  seconds\n",
      "done  58000  papers in  8.111580699973274  seconds\n",
      "done  58500  papers in  2.195206899792538  seconds\n",
      "done  59000  papers in  5.730449099908583  seconds\n",
      "done  59500  papers in  3.5773805001663277  seconds\n",
      "done  60000  papers in  4.2395747999689775  seconds\n",
      "done  60500  papers in  3.401404900359921  seconds\n",
      "done  61000  papers in  8.269576999897254  seconds\n",
      "done  61500  papers in  8.480138399783755  seconds\n",
      "done  62000  papers in  16.425768599976436  seconds\n",
      "done  62500  papers in  13.50097060011467  seconds\n",
      "done  63000  papers in  7.77957010002865  seconds\n",
      "done  63500  papers in  7.240057200426236  seconds\n",
      "done  64000  papers in  13.572968499938725  seconds\n",
      "done  64500  papers in  3.7252663999970537  seconds\n",
      "done  65000  papers in  5.104924700019183  seconds\n",
      "done  65500  papers in  4.927064499992412  seconds\n",
      "done  66000  papers in  8.399027799998294  seconds\n",
      "done  66500  papers in  5.780018999881577  seconds\n",
      "done  67000  papers in  7.989298599917674  seconds\n",
      "done  67500  papers in  8.581978500267724  seconds\n",
      "done  68000  papers in  8.77495019993512  seconds\n",
      "done  68500  papers in  9.213913399726152  seconds\n",
      "done  69000  papers in  7.6193319002049975  seconds\n",
      "done  69500  papers in  5.8739454000024125  seconds\n",
      "done  70000  papers in  11.036939699828508  seconds\n",
      "done  70500  papers in  5.409244899827172  seconds\n",
      "done  71000  papers in  5.871444399817847  seconds\n"
     ]
    }
   ],
   "source": [
    "# This code creates a single text file from all the abstracts and main texts\n",
    "# Takes the list of dictionaries as input\n",
    "a = open(data_path + 'single_text_file.txt', 'a', encoding='UTF-8')\n",
    "all_text = ''\n",
    "t_time = 0\n",
    "for num, i in enumerate(lit):\n",
    "    start = time.perf_counter()\n",
    "    all_text = all_text+i['abstract']\n",
    "    all_text = all_text+i['body_text']\n",
    "    end = time.perf_counter()\n",
    "    t_time = t_time + (end-start)\n",
    "    if num%500 == 0:\n",
    "        a.write(all_text)\n",
    "        all_text = ''\n",
    "        print (\"done \", num, \" papers in \", t_time, \" seconds\")\n",
    "        t_time = 0\n",
    "        \n",
    "a.close()"
   ]
  },
  {
   "cell_type": "code",
   "execution_count": null,
   "metadata": {},
   "outputs": [],
   "source": [
    "def diagnose(symptoms, diseases):\n",
    "    \"\"\"\n",
    "    Takes in list of symptoms and list of diseases (maybe make global) and produces avg similarities \n",
    "    between to each disease.\n",
    "    \n",
    "    Param: symptoms --> list\n",
    "    Param: diseases --> list\n",
    "    Output: sims --> dict{similarity: disease}\n",
    "    \"\"\"\n",
    "    sims = {}\n",
    "    for i in diseases:\n",
    "        cos_list = []\n",
    "        for j in symptoms:\n",
    "            cos_list.append(cosine(we_dict[i], we_dict[j]))\n",
    "        avg_cos = sum(cos_list)/len(cos_list)\n",
    "        sims[avg_cos] = i\n",
    "        \n",
    "    return sims\n",
    "    \n",
    "sims = diagnose(symptoms, diseases)\n",
    "top_diagnosis = sims[min(sims.keys())]\n",
    "top_5 = [sims[x] for x in sorted(sims.keys())[:5]]"
   ]
  }
 ],
 "metadata": {
  "kernelspec": {
   "display_name": "Python 3",
   "language": "python",
   "name": "python3"
  },
  "language_info": {
   "codemirror_mode": {
    "name": "ipython",
    "version": 3
   },
   "file_extension": ".py",
   "mimetype": "text/x-python",
   "name": "python",
   "nbconvert_exporter": "python",
   "pygments_lexer": "ipython3",
   "version": "3.7.3"
  }
 },
 "nbformat": 4,
 "nbformat_minor": 4
}
